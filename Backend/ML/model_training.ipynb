{
 "cells": [
  {
   "cell_type": "markdown",
   "metadata": {},
   "source": [
    "## 1. Train the model"
   ]
  },
  {
   "cell_type": "code",
   "execution_count": null,
   "metadata": {},
   "outputs": [],
   "source": [
    "# load dataset\n",
    "import tensorflow as tf\n",
    "from utils.dataset import Dataset\n",
    "from models.model import EfficientCapsNet\n",
    "\n",
    "# loads dataset\n",
    "dataset = Dataset(config_path='config_STSL.json')\n",
    "\n",
    "# check dataset\n",
    "dataset.print_ds_info()"
   ]
  },
  {
   "cell_type": "code",
   "execution_count": null,
   "metadata": {},
   "outputs": [],
   "source": [
    "# instantiate model\n",
    "model_train = EfficientCapsNet(mode='train', verbose=True)"
   ]
  },
  {
   "cell_type": "code",
   "execution_count": null,
   "metadata": {},
   "outputs": [],
   "source": [
    "# train model\n",
    "history = model_train.train(dataset, initial_epoch=0)"
   ]
  },
  {
   "cell_type": "code",
   "execution_count": null,
   "metadata": {},
   "outputs": [],
   "source": [
    "# Plot history\n",
    "from utils.visualisation import plotHistory\n",
    "\n",
    "plotHistory(history)"
   ]
  },
  {
   "cell_type": "markdown",
   "metadata": {},
   "source": [
    "## 2. Test model"
   ]
  },
  {
   "cell_type": "code",
   "execution_count": null,
   "metadata": {},
   "outputs": [],
   "source": [
    "# load test model\n",
    "model_test = EfficientCapsNet(mode='test', verbose=True)\n",
    "model_test.load_graph_weights()"
   ]
  },
  {
   "cell_type": "code",
   "execution_count": null,
   "metadata": {},
   "outputs": [],
   "source": [
    "# evaluate\n",
    "model_test.evaluate(dataset.X_test, dataset.y_test) "
   ]
  },
  {
   "cell_type": "code",
   "execution_count": null,
   "metadata": {},
   "outputs": [],
   "source": [
    "# plot wrong images\n",
    "\n",
    "from utils.visualisation import plotWrongImagesWithCharts\n",
    "\n",
    "y_pred, reconstructed_imgs = model_test.predict(dataset.X_test)\n",
    "\n",
    "plotWrongImagesWithCharts(dataset.X_test, dataset.y_test, y_pred, reconstructed_imgs, 3, dataset.class_names)"
   ]
  },
  {
   "cell_type": "markdown",
   "metadata": {},
   "source": [
    "## 3. Visualise generator reconstruction"
   ]
  },
  {
   "cell_type": "code",
   "execution_count": null,
   "metadata": {},
   "outputs": [],
   "source": [
    "import numpy as np\n",
    "import matplotlib.pyplot as plt\n",
    "import matplotlib.patches as patches\n",
    "\n",
    "# pass test data through model\n",
    "capsule_outputs, reconstructed_images = model_test.predict(dataset.X_test)\n",
    "\n",
    "# Function to decode one-hot encoded labels\n",
    "def decode_onehot(onehot_encoded):\n",
    "    return np.argmax(onehot_encoded)\n",
    "\n",
    "# Fetch one instance of each class from the test set\n",
    "class_indices = {i: None for i in range(11)}  # Assuming 11 classes, indexed 0 to 10\n",
    "\n",
    "for idx, label in enumerate(dataset.y_test):\n",
    "    label_decoded = decode_onehot(label)\n",
    "    if class_indices[label_decoded] is None:\n",
    "        class_indices[label_decoded] = idx\n",
    "    if all(v is not None for v in class_indices.values()):  # Break once we've found one of each\n",
    "        break\n",
    "\n",
    "\n",
    "# Visualize the original and reconstructed images for each class\n",
    "num_classes = 11\n",
    "images_per_row = 6  # Number of images per row\n",
    "\n",
    "plt.figure(figsize=(2*images_per_row, 8))  # Adjust the figure size\n",
    "\n",
    "for i, (class_label, idx) in enumerate(class_indices.items()):\n",
    "    \n",
    "    row = (i // images_per_row) * 2  # Determine which row to place the original image in\n",
    "    col = i % images_per_row   # Determine which column to place the image in\n",
    "    \n",
    "    # Original images\n",
    "    plt.subplot(4, images_per_row, row * images_per_row + col + 1)\n",
    "    plt.imshow(dataset.X_test[idx].reshape(128, 128), cmap='gray')\n",
    "    plt.title(f\"Class {class_label}\")\n",
    "    rect = patches.Rectangle((0, 0), 127, 127, linewidth=1, edgecolor='black', facecolor='none')\n",
    "    plt.gca().add_patch(rect)\n",
    "    plt.axis('off')\n",
    "    \n",
    "    # Reconstructed images\n",
    "    plt.subplot(4, images_per_row, (row + 1) * images_per_row + col + 1)\n",
    "    plt.imshow(reconstructed_images[idx].reshape(128, 128), cmap='gray')\n",
    "    rect = patches.Rectangle((0, 0), 127, 127, linewidth=1, edgecolor='black', facecolor='none')\n",
    "    plt.gca().add_patch(rect)\n",
    "    plt.axis('off')\n",
    "\n",
    "plt.tight_layout()\n",
    "plt.show()\n"
   ]
  },
  {
   "cell_type": "markdown",
   "metadata": {},
   "source": [
    "## Save the model"
   ]
  },
  {
   "cell_type": "code",
   "execution_count": 10,
   "metadata": {},
   "outputs": [
    {
     "name": "stdout",
     "output_type": "stream",
     "text": [
      "Model saved successfully to bin/model.keras\n"
     ]
    }
   ],
   "source": [
    "model_test.save_full_model('bin/model.keras')"
   ]
  }
 ],
 "metadata": {
  "kernelspec": {
   "display_name": "env",
   "language": "python",
   "name": "python3"
  },
  "language_info": {
   "codemirror_mode": {
    "name": "ipython",
    "version": 3
   },
   "file_extension": ".py",
   "mimetype": "text/x-python",
   "name": "python",
   "nbconvert_exporter": "python",
   "pygments_lexer": "ipython3",
   "version": "3.10.8"
  },
  "orig_nbformat": 4
 },
 "nbformat": 4,
 "nbformat_minor": 2
}
