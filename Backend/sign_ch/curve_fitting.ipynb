{
 "cells": [
  {
   "cell_type": "code",
   "execution_count": 1,
   "metadata": {},
   "outputs": [
    {
     "ename": "ImportError",
     "evalue": "attempted relative import with no known parent package",
     "output_type": "error",
     "traceback": [
      "\u001b[0;31m---------------------------------------------------------------------------\u001b[0m",
      "\u001b[0;31mImportError\u001b[0m                               Traceback (most recent call last)",
      "Cell \u001b[0;32mIn[1], line 1\u001b[0m\n\u001b[0;32m----> 1\u001b[0m \u001b[39mfrom\u001b[39;00m \u001b[39msign_ch\u001b[39;00m \u001b[39mimport\u001b[39;00m \u001b[39m*\u001b[39m\n\u001b[1;32m      2\u001b[0m \u001b[39mimport\u001b[39;00m \u001b[39mnumpy\u001b[39;00m \u001b[39mas\u001b[39;00m \u001b[39mnp\u001b[39;00m\n\u001b[1;32m      3\u001b[0m \u001b[39mimport\u001b[39;00m \u001b[39mos\u001b[39;00m\n",
      "File \u001b[0;32m~/Imperial_College/DualSense/dualsense/Backend/sign_ch/sign_ch.py:13\u001b[0m\n\u001b[1;32m     10\u001b[0m \u001b[39mfrom\u001b[39;00m \u001b[39mtyping\u001b[39;00m \u001b[39mimport\u001b[39;00m List, Tuple\n\u001b[1;32m     11\u001b[0m \u001b[39mimport\u001b[39;00m \u001b[39mmatplotlib\u001b[39;00m\u001b[39m.\u001b[39;00m\u001b[39mpyplot\u001b[39;00m \u001b[39mas\u001b[39;00m \u001b[39mplt\u001b[39;00m\n\u001b[0;32m---> 13\u001b[0m \u001b[39mfrom\u001b[39;00m \u001b[39m.\u001b[39;00m\u001b[39m.\u001b[39;00m\u001b[39mextraction\u001b[39;00m \u001b[39mimport\u001b[39;00m extract_timestamps_and_locations\n\u001b[1;32m     14\u001b[0m \u001b[39mfrom\u001b[39;00m \u001b[39m.\u001b[39;00m\u001b[39m.\u001b[39;00m\u001b[39msign_a\u001b[39;00m \u001b[39mimport\u001b[39;00m timestamp_duration_valid\n\u001b[1;32m     17\u001b[0m \u001b[39mdef\u001b[39;00m \u001b[39mlinear_bezier_curve\u001b[39m(p0: np\u001b[39m.\u001b[39mndarray, p1: np\u001b[39m.\u001b[39mndarray, t: np\u001b[39m.\u001b[39mndarray) \u001b[39m-\u001b[39m\u001b[39m>\u001b[39m np\u001b[39m.\u001b[39mndarray:\n",
      "\u001b[0;31mImportError\u001b[0m: attempted relative import with no known parent package"
     ]
    }
   ],
   "source": [
    "from sign_ch import *\n",
    "import numpy as np\n",
    "import os\n",
    "\n",
    "\n",
    "# fit curve for given points for sign 'ch'\n",
    "# open data file\n",
    "with open('data_ch.json') as file:\n",
    "    data_ch = json.load(file)\n",
    "\n",
    "# splits data into touch locations and timestamps\n",
    "timestamps, locations = extract_timestamps_and_locations(data_ch)\n",
    "# splits data into curves\n",
    "curve1, curve2 = split_touch_locations(locations)\n",
    "\n",
    "# control points for curve1\n",
    "P0_curve1 = np.array(curve1[0])\n",
    "P1_curve1 = np.array(curve1[-1])\n",
    "\n",
    "# control points for curve2\n",
    "P0_curve2 = np.array(curve2[0])\n",
    "P1_curve2 = np.array(curve2[-1])\n",
    "\n",
    "# assign parameter values\n",
    "t = np.linspace(0, 1, num=100)\n",
    "\n",
    "# calculate points for curve1\n",
    "B1 = (1 - t)[:, None] * P0_curve1 + t[:, None] * P1_curve1\n",
    "\n",
    "# calculate points for curve2\n",
    "B2 = (1 - t)[:, None] * P0_curve2 + t[:, None] * P1_curve2\n",
    "\n",
    "# plot curves\n",
    "plt.plot(B1[:, 0], B1[:, 1], color='blue')  # curve1\n",
    "plt.scatter([P0_curve1[0], P1_curve1[0]], [P0_curve1[1], P1_curve1[1]], color='red')  # control points for curve1\n",
    "\n",
    "plt.plot(B2[:, 0], B2[:, 1], color='green')  # curve2\n",
    "plt.scatter([P0_curve2[0], P1_curve2[0]], [P0_curve2[1], P1_curve2[1]], color='red')  # control points for curve2\n",
    "\n",
    "plt.show()\n",
    "\n",
    "current_dir = os.path.dirname(os.path.abspath(__file__))\n",
    "print(current_dir)"
   ]
  }
 ],
 "metadata": {
  "kernelspec": {
   "display_name": "Python 3",
   "language": "python",
   "name": "python3"
  },
  "language_info": {
   "codemirror_mode": {
    "name": "ipython",
    "version": 3
   },
   "file_extension": ".py",
   "mimetype": "text/x-python",
   "name": "python",
   "nbconvert_exporter": "python",
   "pygments_lexer": "ipython3",
   "version": "3.10.9"
  },
  "orig_nbformat": 4
 },
 "nbformat": 4,
 "nbformat_minor": 2
}
